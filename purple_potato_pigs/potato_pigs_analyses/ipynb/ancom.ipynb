{
 "cells": [
  {
   "cell_type": "markdown",
   "metadata": {},
   "source": [
    "This notebook will be focused on running ANCOM on the final fecal timepoint, the proximal and distal colons."
   ]
  },
  {
   "cell_type": "code",
   "execution_count": 1,
   "metadata": {
    "collapsed": true
   },
   "outputs": [],
   "source": [
    "from canvas.stats import ancom\n",
    "\n",
    "import pandas as pd\n",
    "import numpy as np\n",
    "import matplotlib\n",
    "import matplotlib.pyplot as plt\n",
    "import seaborn as sns\n",
    "from skbio.stats.composition import ilr, ilr_inv\n",
    "from skbio import TreeNode\n",
    "from gneiss.balances import balanceplot, balance_basis\n",
    "from gneiss.layouts import barchart_layout\n",
    "from gneiss.util import match, match_tips, rename_internal_nodes\n",
    "from gneiss import mixedlm\n",
    "\n",
    "from biom import load_table\n",
    "from ete3 import Tree, TreeStyle, NodeStyle, faces, AttrFace, CircleFace, BarChartFace\n",
    "import statsmodels.formula.api as smf\n",
    "import warnings\n",
    "warnings.filterwarnings('ignore')\n",
    "%matplotlib inline"
   ]
  },
  {
   "cell_type": "code",
   "execution_count": 2,
   "metadata": {
    "collapsed": true
   },
   "outputs": [],
   "source": [
    "def convert_biom_to_pandas(table):\n",
    "    \"\"\" Unpacks biom table into two pandas dataframes.\n",
    "    \n",
    "    The first dataframe will contain the count information for \n",
    "    features and samples. The second datafram will contain taxonomy \n",
    "    information for all of the OTUs.\n",
    "    \n",
    "    Parameters\n",
    "    ----------\n",
    "    table : biom.Table\n",
    "    \n",
    "    Returns\n",
    "    -------\n",
    "    pd.DataFrame\n",
    "        Contingency table of counts where samples correspond \n",
    "        to rows and columns correspond to features (i.e. OTUs)\n",
    "    pd.DataFrame\n",
    "        A mapping of OTU names to taxonomic ids\n",
    "    \"\"\"\n",
    "\n",
    "    feature_table = pd.DataFrame(np.array(table.matrix_data.todense()).T,\n",
    "                             index=table.ids(axis='sample'),\n",
    "                             columns=table.ids(axis='observation'))\n",
    "    feature_ids = table.ids(axis='observation')\n",
    "    mapping = {i: table.metadata(id=i, axis='observation')['taxonomy'] for i in feature_ids}\n",
    "    # modify below as necessary.  \n",
    "    # There are typically 7 levels of taxonomy.\n",
    "    taxonomy = pd.DataFrame(mapping, \n",
    "                            index=['kingdom', 'phylum', 'class', 'order',\n",
    "                                   'family', 'genus', 'species']).T\n",
    "    return feature_table, taxonomy"
   ]
  },
  {
   "cell_type": "markdown",
   "metadata": {},
   "source": [
    "# Proximal\n",
    "\n",
    "We will run ANCOM to investigate differences between the processing types within\n",
    "the fecal samples. "
   ]
  },
  {
   "cell_type": "code",
   "execution_count": 3,
   "metadata": {
    "collapsed": true
   },
   "outputs": [],
   "source": [
    "mapping = pd.read_table('../processed_data/1706_1145_mapping.txt', index_col=0)\n",
    "table = load_table('../processed_data/1706_1145_otu_table.biom')\n",
    "tree = TreeNode.read('../original_data/97_otus.tree')\n",
    "mapping = mapping.set_index('#SampleID')"
   ]
  },
  {
   "cell_type": "code",
   "execution_count": 4,
   "metadata": {
    "collapsed": false
   },
   "outputs": [],
   "source": [
    "# filter out samples that aren't fecal\n",
    "proximal_mapping = mapping.loc[mapping.body_site=='UBERON:proximal colon']\n",
    "\n",
    "# filter out control groups and blanks\n",
    "proximal_mapping = proximal_mapping.loc[mapping.color!='Not applicable']\n",
    "proximal_mapping = proximal_mapping.loc[proximal_mapping['processing'] != 'HCD']\n",
    "proximal_mapping = proximal_mapping.loc[proximal_mapping['processing'] != 'Control']"
   ]
  },
  {
   "cell_type": "code",
   "execution_count": 5,
   "metadata": {
    "collapsed": false
   },
   "outputs": [
    {
     "data": {
      "text/plain": [
       "779 x 47 <class 'biom.table.Table'> with 26333 nonzero entries (71% dense)"
      ]
     },
     "execution_count": 5,
     "metadata": {},
     "output_type": "execute_result"
    }
   ],
   "source": [
    "read_filter = lambda val, _id, md : sum(val) > 125\n",
    "md_filter = lambda val, _id, md : _id in proximal_mapping.index\n",
    "\n",
    "table.filter(md_filter, axis='sample') # filter out samples not in the mapping file.\n",
    "table.filter(read_filter, axis='observation')\n",
    "table.filter(read_filter, axis='sample')"
   ]
  },
  {
   "cell_type": "code",
   "execution_count": 6,
   "metadata": {
    "collapsed": true
   },
   "outputs": [],
   "source": [
    "otu_table, taxonomy = convert_biom_to_pandas(table)\n",
    "\n",
    "proximal_table, prevention_mapping = match(otu_table, proximal_mapping)"
   ]
  },
  {
   "cell_type": "code",
   "execution_count": 7,
   "metadata": {
    "collapsed": false
   },
   "outputs": [],
   "source": [
    "res = ancom(proximal_table+1, proximal_mapping.processing, significance_test='permutative-anova')"
   ]
  },
  {
   "cell_type": "code",
   "execution_count": 8,
   "metadata": {
    "collapsed": false
   },
   "outputs": [],
   "source": [
    "res.to_csv('../results/ancom_prevention_proximal.csv')"
   ]
  },
  {
   "cell_type": "markdown",
   "metadata": {},
   "source": [
    "# Distal"
   ]
  },
  {
   "cell_type": "code",
   "execution_count": 44,
   "metadata": {
    "collapsed": false
   },
   "outputs": [],
   "source": [
    "mapping = pd.read_table('../processed_data/1706_1145_mapping.txt', index_col=0)\n",
    "table = load_table('../processed_data/1706_1145_otu_table.biom')\n",
    "tree = TreeNode.read('../original_data/97_otus.tree')\n",
    "mapping = mapping.set_index('#SampleID')"
   ]
  },
  {
   "cell_type": "code",
   "execution_count": 45,
   "metadata": {
    "collapsed": false
   },
   "outputs": [
    {
     "data": {
      "text/plain": [
       "(46, 89)"
      ]
     },
     "execution_count": 45,
     "metadata": {},
     "output_type": "execute_result"
    }
   ],
   "source": [
    "# filter out samples that aren't fecal\n",
    "distal_mapping = mapping.loc[mapping.body_site=='UBERON:distal colon']\n",
    "\n",
    "# filter out control groups and blanks\n",
    "distal_mapping = distal_mapping.loc[distal_mapping.color!='Not applicable']\n",
    "distal_mapping = distal_mapping.loc[distal_mapping['processing'] != 'HCD']\n",
    "distal_mapping = distal_mapping.loc[distal_mapping['processing'] != 'Control']\n",
    "distal_mapping.shape"
   ]
  },
  {
   "cell_type": "code",
   "execution_count": 46,
   "metadata": {
    "collapsed": false
   },
   "outputs": [
    {
     "data": {
      "text/plain": [
       "831 x 45 <class 'biom.table.Table'> with 28270 nonzero entries (75% dense)"
      ]
     },
     "execution_count": 46,
     "metadata": {},
     "output_type": "execute_result"
    }
   ],
   "source": [
    "read_filter = lambda val, _id, md : sum(val) > 125\n",
    "md_filter = lambda val, _id, md : _id in distal_mapping.index\n",
    "\n",
    "table.filter(md_filter, axis='sample') # filter out samples not in the mapping file.\n",
    "table.filter(read_filter, axis='observation')\n",
    "table.filter(read_filter, axis='sample')"
   ]
  },
  {
   "cell_type": "code",
   "execution_count": 47,
   "metadata": {
    "collapsed": true
   },
   "outputs": [],
   "source": [
    "otu_table, taxonomy = convert_biom_to_pandas(table)\n",
    "\n",
    "distal_table, distal_mapping = match(otu_table, distal_mapping)"
   ]
  },
  {
   "cell_type": "code",
   "execution_count": 48,
   "metadata": {
    "collapsed": false
   },
   "outputs": [],
   "source": [
    "res = ancom(distal_table+1, distal_mapping.processing, significance_test='permutative-anova')"
   ]
  },
  {
   "cell_type": "code",
   "execution_count": 49,
   "metadata": {
    "collapsed": true
   },
   "outputs": [],
   "source": [
    "res.to_csv('../results/ancom_prevention_distal.csv')"
   ]
  },
  {
   "cell_type": "code",
   "execution_count": null,
   "metadata": {
    "collapsed": true
   },
   "outputs": [],
   "source": []
  }
 ],
 "metadata": {
  "kernelspec": {
   "display_name": "Python 3",
   "language": "python",
   "name": "python3"
  },
  "language_info": {
   "codemirror_mode": {
    "name": "ipython",
    "version": 3
   },
   "file_extension": ".py",
   "mimetype": "text/x-python",
   "name": "python",
   "nbconvert_exporter": "python",
   "pygments_lexer": "ipython3",
   "version": "3.5.2"
  },
  "widgets": {
   "state": {},
   "version": "1.1.2"
  }
 },
 "nbformat": 4,
 "nbformat_minor": 0
}
